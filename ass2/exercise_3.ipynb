{
 "cells": [
  {
   "cell_type": "code",
   "execution_count": 1,
   "id": "144c14b2-52f8-48f3-b7bd-389f5fb1cf69",
   "metadata": {},
   "outputs": [
    {
     "name": "stdout",
     "output_type": "stream",
     "text": [
      "Selected features: ['worst smoothness' 'worst compactness' 'worst concavity'\n",
      " 'worst concave points' 'worst symmetry']\n",
      "\n",
      "Model Performance:\n",
      "Accuracy: 0.8508771929824561\n",
      "\n",
      "Classification Report:\n",
      "               precision    recall  f1-score   support\n",
      "\n",
      "           0       0.91      0.67      0.77        43\n",
      "           1       0.83      0.96      0.89        71\n",
      "\n",
      "    accuracy                           0.85       114\n",
      "   macro avg       0.87      0.82      0.83       114\n",
      "weighted avg       0.86      0.85      0.85       114\n",
      "\n"
     ]
    }
   ],
   "source": [
    "# Import necessary libraries\n",
    "import numpy as np\n",
    "import pandas as pd\n",
    "from sklearn.datasets import load_breast_cancer\n",
    "from sklearn.model_selection import train_test_split\n",
    "from sklearn.svm import SVC\n",
    "from sklearn.feature_selection import RFE\n",
    "from sklearn.metrics import classification_report, accuracy_score\n",
    "\n",
    "# Load the Breast Cancer dataset\n",
    "cancer = load_breast_cancer()\n",
    "\n",
    "# Split the dataset into features (X) and target (y)\n",
    "X = cancer.data\n",
    "y = cancer.target\n",
    "\n",
    "# Split the dataset into training and testing sets (80% training, 20% testing)\n",
    "X_train, X_test, y_train, y_test = train_test_split(X, y, test_size=0.2, random_state=42)\n",
    "\n",
    "# Create an SVM classifier\n",
    "svm = SVC(kernel='linear')  # Using a linear kernel\n",
    "\n",
    "# Use RFE to select features\n",
    "rfe = RFE(estimator=svm, n_features_to_select=5)  # Select the top 5 features\n",
    "rfe.fit(X_train, y_train)\n",
    "\n",
    "# Get the selected features\n",
    "selected_features = rfe.support_\n",
    "selected_feature_names = cancer.feature_names[selected_features]\n",
    "\n",
    "# Print the selected feature names\n",
    "print(\"Selected features:\", selected_feature_names)\n",
    "\n",
    "# Train the SVM model with the selected features\n",
    "X_train_rfe = rfe.transform(X_train)\n",
    "X_test_rfe = rfe.transform(X_test)\n",
    "svm.fit(X_train_rfe, y_train)\n",
    "\n",
    "# Make predictions\n",
    "y_pred = svm.predict(X_test_rfe)\n",
    "\n",
    "# Evaluate model performance\n",
    "print(\"\\nModel Performance:\")\n",
    "print(\"Accuracy:\", accuracy_score(y_test, y_pred))\n",
    "print(\"\\nClassification Report:\\n\", classification_report(y_test, y_pred))\n"
   ]
  },
  {
   "cell_type": "code",
   "execution_count": null,
   "id": "7ff5277a-0537-47fa-86d4-3141d42a7066",
   "metadata": {},
   "outputs": [],
   "source": []
  }
 ],
 "metadata": {
  "kernelspec": {
   "display_name": "Python 3 (ipykernel)",
   "language": "python",
   "name": "python3"
  },
  "language_info": {
   "codemirror_mode": {
    "name": "ipython",
    "version": 3
   },
   "file_extension": ".py",
   "mimetype": "text/x-python",
   "name": "python",
   "nbconvert_exporter": "python",
   "pygments_lexer": "ipython3",
   "version": "3.9.1"
  }
 },
 "nbformat": 4,
 "nbformat_minor": 5
}
