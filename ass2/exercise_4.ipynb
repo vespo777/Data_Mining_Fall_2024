{
 "cells": [
  {
   "cell_type": "code",
   "execution_count": 2,
   "id": "fcde58e9-df74-4b83-9af7-c96aee0639c6",
   "metadata": {},
   "outputs": [
    {
     "name": "stdout",
     "output_type": "stream",
     "text": [
      "Selected features: ['sex', 'bmi', 'bp', 's1', 's3', 's5', 's6']\n",
      "\n",
      "Model Performance:\n",
      "Mean Squared Error: 2798.242907511305\n",
      "R^2 Score: 0.47184545850451176\n"
     ]
    }
   ],
   "source": [
    "# Import necessary libraries\n",
    "import numpy as np\n",
    "import pandas as pd\n",
    "from sklearn.datasets import load_diabetes\n",
    "from sklearn.model_selection import train_test_split\n",
    "from sklearn.linear_model import Lasso\n",
    "from sklearn.metrics import mean_squared_error, r2_score\n",
    "\n",
    "# Load the Diabetes dataset\n",
    "diabetes = load_diabetes()\n",
    "\n",
    "# Split the dataset into features (X) and target (y)\n",
    "X = diabetes.data\n",
    "y = diabetes.target\n",
    "\n",
    "# Split the dataset into training and testing sets (80% training, 20% testing)\n",
    "X_train, X_test, y_train, y_test = train_test_split(X, y, test_size=0.2, random_state=42)\n",
    "\n",
    "# Create a Lasso regression model\n",
    "lasso = Lasso(alpha=0.1)  # Regularization strength\n",
    "\n",
    "# Fit the model to the training data\n",
    "lasso.fit(X_train, y_train)\n",
    "\n",
    "# Get the coefficients and identify selected features\n",
    "coefficients = lasso.coef_\n",
    "selected_features = np.where(coefficients != 0)[0]  # Indices of selected features\n",
    "\n",
    "# Get the names of the selected features\n",
    "selected_feature_names = [diabetes.feature_names[i] for i in selected_features]  # List comprehension\n",
    "\n",
    "# Print the selected feature names\n",
    "print(\"Selected features:\", selected_feature_names)\n",
    "\n",
    "# Train a model using the selected features\n",
    "X_train_lasso = X_train[:, selected_features]\n",
    "X_test_lasso = X_test[:, selected_features]\n",
    "lasso.fit(X_train_lasso, y_train)\n",
    "\n",
    "# Make predictions\n",
    "y_pred = lasso.predict(X_test_lasso)\n",
    "\n",
    "# Evaluate model performance\n",
    "mse = mean_squared_error(y_test, y_pred)\n",
    "r2 = r2_score(y_test, y_pred)\n",
    "\n",
    "print(\"\\nModel Performance:\")\n",
    "print(\"Mean Squared Error:\", mse)\n",
    "print(\"R^2 Score:\", r2)\n"
   ]
  },
  {
   "cell_type": "code",
   "execution_count": null,
   "id": "d028a1cc-21c3-44a6-af40-0f8b9d7a9676",
   "metadata": {},
   "outputs": [],
   "source": []
  }
 ],
 "metadata": {
  "kernelspec": {
   "display_name": "Python 3 (ipykernel)",
   "language": "python",
   "name": "python3"
  },
  "language_info": {
   "codemirror_mode": {
    "name": "ipython",
    "version": 3
   },
   "file_extension": ".py",
   "mimetype": "text/x-python",
   "name": "python",
   "nbconvert_exporter": "python",
   "pygments_lexer": "ipython3",
   "version": "3.9.1"
  }
 },
 "nbformat": 4,
 "nbformat_minor": 5
}
